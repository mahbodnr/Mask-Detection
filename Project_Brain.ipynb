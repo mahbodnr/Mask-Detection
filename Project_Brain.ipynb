{
  "nbformat": 4,
  "nbformat_minor": 0,
  "metadata": {
    "colab": {
      "name": "Project Brain.ipynb",
      "provenance": [],
      "collapsed_sections": [],
      "include_colab_link": true
    },
    "kernelspec": {
      "name": "python3",
      "display_name": "Python 3"
    }
  },
  "cells": [
    {
      "cell_type": "markdown",
      "metadata": {
        "id": "view-in-github",
        "colab_type": "text"
      },
      "source": [
        "<a href=\"https://colab.research.google.com/github/mahbodnr/Mask-Detection/blob/main/Project_Brain.ipynb\" target=\"_parent\"><img src=\"https://colab.research.google.com/assets/colab-badge.svg\" alt=\"Open In Colab\"/></a>"
      ]
    },
    {
      "cell_type": "markdown",
      "metadata": {
        "id": "zBNu2SRNjpq2"
      },
      "source": [
        "#TODO:\r\n",
        "\r\n",
        "- <s>neuron id </s>\r\n",
        "- define a global timestep"
      ]
    },
    {
      "cell_type": "code",
      "metadata": {
        "id": "dWAzDOZ4UBCD"
      },
      "source": [
        "import numpy as np\r\n",
        "import matplotlib.pyplot as plt\r\n",
        "import random\r\n",
        "from itertools import count\r\n",
        "import networkx as nx"
      ],
      "execution_count": 1,
      "outputs": []
    },
    {
      "cell_type": "code",
      "metadata": {
        "id": "6hTvp1iFU8JR"
      },
      "source": [
        "dt = 0.001 #s\r\n",
        "T = 0.1 #s\r\n",
        "total_timepoints = int(T/ dt)"
      ],
      "execution_count": 2,
      "outputs": []
    },
    {
      "cell_type": "markdown",
      "metadata": {
        "id": "onFPMRE0nNOm"
      },
      "source": [
        "LIF:<br>\r\n",
        "$u = u_r + \\int 1/C * exp(t-t'/\\tau) * I(t')dt'$"
      ]
    },
    {
      "cell_type": "code",
      "metadata": {
        "id": "3jHgfagfnM1J"
      },
      "source": [
        "class NeuronType(object):\r\n",
        "    pass\r\n",
        "\r\n",
        "class LIF(NeuronType):\r\n",
        "    def __init__(self,  Rm = 1,Cm = 0.1):\r\n",
        "        self.Rm = Rm #ohm\r\n",
        "        self.Cm = Cm #uF\r\n",
        "        self.tau_m = Rm*Cm\r\n",
        "\r\n",
        "    def __call__(self, current, timestep, last_spike_timepoint,):\r\n",
        "        potential = 0\r\n",
        "        for timepoint in range(last_spike_timepoint, timestep + 1):\r\n",
        "            potential += 1/self.Cm * (np.exp(-(timestep - timepoint)/self.tau_m)) * current[timepoint]\r\n",
        "        return potential"
      ],
      "execution_count": null,
      "outputs": []
    },
    {
      "cell_type": "code",
      "metadata": {
        "id": "y2eHOGsBn4LU"
      },
      "source": [
        "class Neuron(object):\r\n",
        "    _ids = count(0)\r\n",
        "    def __init__(self, total_timepoints,  model = LIF(),\r\n",
        "                 neurotransmitter = 'inhibitory', tau_ref = 4, u_rest = -68,\r\n",
        "                 u_tresh = +30, save_potential_history = False,\r\n",
        "                 base_current = 1):\r\n",
        "        \"\"\"\r\n",
        "        Define a new Neuron object\r\n",
        "        Args:\r\n",
        "\r\n",
        "        \"\"\"\r\n",
        "        self.id = next(self._ids)\r\n",
        "        self.model = model\r\n",
        "        self.neurotransmitter = neurotransmitter\r\n",
        "        self.total_timepoints = total_timepoints\r\n",
        "        self.tau_ref = tau_ref #ms # refractory period\r\n",
        "        self.u_rest = u_rest #mv\r\n",
        "        self.u_tresh = u_tresh #mv\r\n",
        "        self.base_current = base_current #mv\r\n",
        "        self.u = self.u_rest\r\n",
        "        self.save_potential = save_potential_history\r\n",
        "        self.open = True\r\n",
        "        self.current_history = np.zeros(total_timepoints)\r\n",
        "        self.spike_train =  np.zeros(total_timepoints, dtype = np.bool)\r\n",
        "        self.timestep = 0\r\n",
        "        self.last_spike_timepoint = 0\r\n",
        "        if self.save_potential:\r\n",
        "            self.potential = np.zeros(total_timepoints)\r\n",
        "        self.current = 0\r\n",
        "        \r\n",
        "    def step(self):\r\n",
        "        assert self.timestep < self.total_timepoints, \"Simulation interval has been finished!\"\r\n",
        "        # Check refactory interval\r\n",
        "        if not open:\r\n",
        "            if self.refactory_time < self.tau_ref:\r\n",
        "                self.refactory_time += 1\r\n",
        "            else:\r\n",
        "                self.open = True\r\n",
        "        else:\r\n",
        "            # Add current current to current history :)\r\n",
        "            self.current_history[self.timestep] = self.current\r\n",
        "            # Update\r\n",
        "            self.u = self.u_rest\r\n",
        "            self.u += self.model(self.current_history, self.timestep, self.last_spike_timepoint)\r\n",
        "            # Save potential history\r\n",
        "            if self.save_potential:\r\n",
        "                self.potential[self.timestep] = self.u\r\n",
        "            # Spike\r\n",
        "            if self.u > self.u_tresh:\r\n",
        "                self.last_spike_timepoint = self.timestep + self.tau_ref\r\n",
        "                self.spike_train[self.timestep] = True\r\n",
        "                self.open = False\r\n",
        "                self.refactory_time = 0 \r\n",
        "        # Go to next time step\r\n",
        "        self.timestep += 1\r\n",
        "        self.current = 0\r\n",
        "\r\n",
        "    @property\r\n",
        "    def spike(self):\r\n",
        "        return self.spike_train[self.timestep - 1]"
      ],
      "execution_count": 46,
      "outputs": []
    },
    {
      "cell_type": "code",
      "metadata": {
        "id": "n4eaCpRXUIF2"
      },
      "source": [
        "class NeuronGroup(object):\r\n",
        "    def __init__(self, population, total_timepoints,\r\n",
        "                 connection_chance = 1/10, excitatory_rate = 2/10):\r\n",
        "        self.population = population\r\n",
        "        self.neurons = {\r\n",
        "            Neuron(total_timepoints, \r\n",
        "                   neurotransmitter = 'inhibitory' if random.random() > excitatory_rate else 'excitatory')\r\n",
        "            for _ in range(self.population)}\r\n",
        "                \r\n",
        "\r\n",
        "        self.network = nx.DiGraph()\r\n",
        "        self.network.add_nodes_from(self.neurons)\r\n",
        "        for PreSN in self.network.nodes:\r\n",
        "            for PostSN in self.network.nodes:\r\n",
        "                if PreSN != PostSN:\r\n",
        "                    if random.random() < connection_chance:\r\n",
        "                        self.network.add_edge(PreSN, PostSN, weight = np.random.normal(scale= 1))\r\n",
        "\r\n",
        "    def step(self):\r\n",
        "        for neuron in self.neurons:\r\n",
        "            if neuron.current:\r\n",
        "                neuron.step()\r\n",
        "\r\n",
        "        for neuron in self.neurons:\r\n",
        "            if neuron.spike:\r\n",
        "                for _, postSN, weight in self.network.out_edges(neuron, data = 'weight'):\r\n",
        "                    if postSN.open:\r\n",
        "                        postSN.current += self.base_current * weight\r\n"
      ],
      "execution_count": 47,
      "outputs": []
    },
    {
      "cell_type": "code",
      "metadata": {
        "id": "kFCGa5zSEmn-"
      },
      "source": [
        "class stimulus(object):\r\n",
        "    _ids = count(0)\r\n",
        "    def __init__(self, output):\r\n",
        "        \"\"\"\r\n",
        "        Parameters\r\n",
        "        ----------\r\n",
        "        output: function\r\n",
        "        A function that determines the output of the stimulus\r\n",
        "        in a specific timestep.\r\n",
        "        examples:\r\n",
        "        output = lambda t: np.sin(2 * t)\r\n",
        "        output = lambda t: 2\r\n",
        "\r\n",
        "        Returns\r\n",
        "        -------\r\n",
        "        Returns the value of output if no connection is set.\r\n",
        "        otherwise, sends he value to the connection (returns None).\r\n",
        "        \"\"\"\r\n",
        "        self.timestep = 0\r\n",
        "        self.output = output\r\n",
        "        self.connection = None\r\n",
        "        self.id += next(_ids)\r\n",
        "\r\n",
        "    def connect(self, connection):\r\n",
        "        self.connection = connection\r\n",
        "\r\n",
        "    def step(self):\r\n",
        "        if self.connection == None:\r\n",
        "            print(f\"WARNING: Stimulus (id: {self.id}) has not connected to any object!\")\r\n",
        "            self.timestep +=1\r\n",
        "            return self.output(timestep)\r\n",
        "        self.connection.current += self.output(self.timestep)\r\n",
        "        self.timestep +=1\r\n"
      ],
      "execution_count": 50,
      "outputs": []
    },
    {
      "cell_type": "code",
      "metadata": {
        "id": "Lu9RAuEMJjI4"
      },
      "source": [
        ""
      ],
      "execution_count": 73,
      "outputs": []
    },
    {
      "cell_type": "markdown",
      "metadata": {
        "id": "6qnHhenKnJuR"
      },
      "source": [
        "#Test"
      ]
    },
    {
      "cell_type": "code",
      "metadata": {
        "id": "2dC84wVkOf1a"
      },
      "source": [
        "sim = simulation(1, 0.001)\r\n",
        "sim.add(NeuronGroup(10,100))"
      ],
      "execution_count": 74,
      "outputs": []
    },
    {
      "cell_type": "code",
      "metadata": {
        "id": "bQRissUgQOuV"
      },
      "source": [
        "r = 3\r\n",
        "q.w = r"
      ],
      "execution_count": 77,
      "outputs": []
    },
    {
      "cell_type": "code",
      "metadata": {
        "colab": {
          "base_uri": "https://localhost:8080/"
        },
        "id": "EMHudYqEQR2N",
        "outputId": "5c994698-22dc-40ac-ec48-09e645d7a13a"
      },
      "source": [
        "q.w"
      ],
      "execution_count": 80,
      "outputs": [
        {
          "output_type": "execute_result",
          "data": {
            "text/plain": [
              "3"
            ]
          },
          "metadata": {
            "tags": []
          },
          "execution_count": 80
        }
      ]
    },
    {
      "cell_type": "code",
      "metadata": {
        "id": "uZ_eC6rlQTcA"
      },
      "source": [
        "r +=1"
      ],
      "execution_count": 79,
      "outputs": []
    },
    {
      "cell_type": "code",
      "metadata": {
        "id": "A7FwxLcs3BIm"
      },
      "source": [
        "G =NeuronGroup(10, 100)\r\n"
      ],
      "execution_count": 48,
      "outputs": []
    },
    {
      "cell_type": "code",
      "metadata": {
        "id": "_Nsaxbm-DcJR"
      },
      "source": [
        "G.step()"
      ],
      "execution_count": 49,
      "outputs": []
    },
    {
      "cell_type": "code",
      "metadata": {
        "colab": {
          "base_uri": "https://localhost:8080/",
          "height": 319
        },
        "id": "l7TwVZlTMqX0",
        "outputId": "ba1e5f4d-fc85-43d8-af20-a54c67917424"
      },
      "source": [
        "printnx.draw(G.network, with_labels=False,)"
      ],
      "execution_count": null,
      "outputs": [
        {
          "output_type": "display_data",
          "data": {
            "image/png": "[encoded data removed]",
            "text/plain": [
              "<Figure size 432x288 with 1 Axes>"
            ]
          },
          "metadata": {
            "tags": []
          }
        }
      ]
    },
    {
      "cell_type": "code",
      "metadata": {
        "colab": {
          "base_uri": "https://localhost:8080/"
        },
        "id": "gajGlokwZjYZ",
        "outputId": "0d0488ee-fda8-4b9a-c353-330518e72b71"
      },
      "source": [
        "list(G.network.nodes.data('stored_potential', default=0))"
      ],
      "execution_count": null,
      "outputs": [
        {
          "output_type": "execute_result",
          "data": {
            "text/plain": [
              "[(<__main__.Neuron at 0x7f2253406a10>, 0),\n",
              " (<__main__.Neuron at 0x7f2253406610>, 0),\n",
              " (<__main__.Neuron at 0x7f2253406a50>, 0),\n",
              " (<__main__.Neuron at 0x7f2253406c50>, 0),\n",
              " (<__main__.Neuron at 0x7f2253406ed0>, 0),\n",
              " (<__main__.Neuron at 0x7f2253406d10>, 0),\n",
              " (<__main__.Neuron at 0x7f2253406f10>, 0),\n",
              " (<__main__.Neuron at 0x7f2253406d90>, 0),\n",
              " (<__main__.Neuron at 0x7f2253406750>, 0),\n",
              " (<__main__.Neuron at 0x7f2253406990>, 0)]"
            ]
          },
          "metadata": {
            "tags": []
          },
          "execution_count": 145
        }
      ]
    },
    {
      "cell_type": "code",
      "metadata": {
        "colab": {
          "base_uri": "https://localhost:8080/"
        },
        "id": "ps3MvyIjV9QE",
        "outputId": "673bb544-00d7-412a-e5fa-55040f154c98"
      },
      "source": [
        "[(a.id, b.id) for a,b in (G.network.edges)]"
      ],
      "execution_count": null,
      "outputs": [
        {
          "output_type": "execute_result",
          "data": {
            "text/plain": [
              "[(26, 13),\n",
              " (26, 15),\n",
              " (13, 24),\n",
              " (13, 0),\n",
              " (25, 8),\n",
              " (25, 28),\n",
              " (25, 27),\n",
              " (24, 11),\n",
              " (24, 14),\n",
              " (24, 27),\n",
              " (23, 6),\n",
              " (22, 27),\n",
              " (20, 2),\n",
              " (17, 13),\n",
              " (17, 20),\n",
              " (0, 25),\n",
              " (0, 24),\n",
              " (0, 22),\n",
              " (0, 8),\n",
              " (0, 9),\n",
              " (21, 22),\n",
              " (21, 10),\n",
              " (21, 28),\n",
              " (19, 22),\n",
              " (19, 15),\n",
              " (19, 10),\n",
              " (19, 28),\n",
              " (16, 8),\n",
              " (16, 18),\n",
              " (16, 3),\n",
              " (12, 23),\n",
              " (15, 9),\n",
              " (15, 11),\n",
              " (10, 26),\n",
              " (10, 12),\n",
              " (10, 14),\n",
              " (10, 29),\n",
              " (18, 22),\n",
              " (18, 15),\n",
              " (18, 5),\n",
              " (18, 14),\n",
              " (18, 4),\n",
              " (9, 25),\n",
              " (9, 4),\n",
              " (11, 13),\n",
              " (7, 22),\n",
              " (28, 23),\n",
              " (28, 20),\n",
              " (28, 0),\n",
              " (28, 18),\n",
              " (28, 29),\n",
              " (6, 20),\n",
              " (6, 28),\n",
              " (6, 27),\n",
              " (5, 0),\n",
              " (14, 28),\n",
              " (14, 3),\n",
              " (4, 11),\n",
              " (4, 6),\n",
              " (4, 5),\n",
              " (1, 19),\n",
              " (1, 15),\n",
              " (1, 18),\n",
              " (1, 5),\n",
              " (1, 14),\n",
              " (3, 22),\n",
              " (3, 19),\n",
              " (29, 22),\n",
              " (29, 14),\n",
              " (27, 0),\n",
              " (27, 16),\n",
              " (27, 3),\n",
              " (2, 13),\n",
              " (2, 19),\n",
              " (2, 14)]"
            ]
          },
          "metadata": {
            "tags": []
          },
          "execution_count": 121
        }
      ]
    },
    {
      "cell_type": "code",
      "metadata": {
        "colab": {
          "base_uri": "https://localhost:8080/"
        },
        "id": "uCQzuIz9XZwj",
        "outputId": "4ffaeb43-349b-4c4e-b419-3e82ad183499"
      },
      "source": [
        "G.network.nodes.items()"
      ],
      "execution_count": null,
      "outputs": [
        {
          "output_type": "execute_result",
          "data": {
            "text/plain": [
              "ItemsView(NodeView((<__main__.Neuron object at 0x7f22512ed810>, <__main__.Neuron object at 0x7f22512ed050>, <__main__.Neuron object at 0x7f22512ed850>, <__main__.Neuron object at 0x7f22512ed890>, <__main__.Neuron object at 0x7f22512ed8d0>, <__main__.Neuron object at 0x7f22512ed910>, <__main__.Neuron object at 0x7f22512ed950>, <__main__.Neuron object at 0x7f22512ed990>, <__main__.Neuron object at 0x7f22512ed9d0>, <__main__.Neuron object at 0x7f22512eda10>, <__main__.Neuron object at 0x7f22512eda50>, <__main__.Neuron object at 0x7f22512eda90>, <__main__.Neuron object at 0x7f22512edad0>, <__main__.Neuron object at 0x7f22512edb10>, <__main__.Neuron object at 0x7f22512edb50>, <__main__.Neuron object at 0x7f22512edc10>, <__main__.Neuron object at 0x7f22512ed410>, <__main__.Neuron object at 0x7f22512edc50>, <__main__.Neuron object at 0x7f22512edcd0>, <__main__.Neuron object at 0x7f22512edd90>, <__main__.Neuron object at 0x7f22512ed590>, <__main__.Neuron object at 0x7f22512eddd0>, <__main__.Neuron object at 0x7f22512ede10>, <__main__.Neuron object at 0x7f22512ed610>, <__main__.Neuron object at 0x7f22512ede50>, <__main__.Neuron object at 0x7f22512eded0>, <__main__.Neuron object at 0x7f22512edf10>, <__main__.Neuron object at 0x7f22512ed710>, <__main__.Neuron object at 0x7f22512ed750>, <__main__.Neuron object at 0x7f22512edfd0>)))"
            ]
          },
          "metadata": {
            "tags": []
          },
          "execution_count": 113
        }
      ]
    },
    {
      "cell_type": "code",
      "metadata": {
        "colab": {
          "base_uri": "https://localhost:8080/"
        },
        "id": "K11bzOFqYRyX",
        "outputId": "a57c70fc-9606-4757-faa2-f049c77adc16"
      },
      "source": [
        "list(G.network.nodes)[0].id"
      ],
      "execution_count": null,
      "outputs": [
        {
          "output_type": "execute_result",
          "data": {
            "text/plain": [
              "26"
            ]
          },
          "metadata": {
            "tags": []
          },
          "execution_count": 122
        }
      ]
    },
    {
      "cell_type": "code",
      "metadata": {
        "colab": {
          "base_uri": "https://localhost:8080/"
        },
        "id": "HSX5kYvMMC_s",
        "outputId": "cc0b220f-5c53-4995-b167-0342b0684b91"
      },
      "source": [
        "a.network.predecessors\r\n",
        "for i in G.network.successors(list(G.network.nodes)[0]):\r\n",
        "    print(i.id)"
      ],
      "execution_count": null,
      "outputs": [
        {
          "output_type": "stream",
          "text": [
            "13\n",
            "15\n"
          ],
          "name": "stdout"
        }
      ]
    },
    {
      "cell_type": "code",
      "metadata": {
        "colab": {
          "base_uri": "https://localhost:8080/"
        },
        "id": "kM8OnZqe3ojZ",
        "outputId": "42c4b56f-6950-4c2f-deee-1b8a19e19981"
      },
      "source": [
        "G.connection_matrix.astype(np.bool)"
      ],
      "execution_count": null,
      "outputs": [
        {
          "output_type": "execute_result",
          "data": {
            "text/plain": [
              "array([[False, False, False, False, False,  True, False, False,  True,\n",
              "        False],\n",
              "       [False, False, False, False, False, False, False, False,  True,\n",
              "        False],\n",
              "       [False, False, False, False, False,  True, False, False,  True,\n",
              "        False],\n",
              "       [False, False, False, False, False, False, False, False, False,\n",
              "        False],\n",
              "       [False, False,  True, False, False,  True, False,  True, False,\n",
              "        False],\n",
              "       [False,  True, False, False, False, False, False, False,  True,\n",
              "         True],\n",
              "       [False, False,  True, False, False, False, False, False, False,\n",
              "        False],\n",
              "       [False, False, False, False, False, False, False, False, False,\n",
              "        False],\n",
              "       [False, False,  True, False, False, False, False, False, False,\n",
              "         True],\n",
              "       [False, False, False, False, False, False,  True, False, False,\n",
              "        False]])"
            ]
          },
          "metadata": {
            "tags": []
          },
          "execution_count": 22
        }
      ]
    },
    {
      "cell_type": "code",
      "metadata": {
        "colab": {
          "base_uri": "https://localhost:8080/"
        },
        "id": "RGUFQY0rUPp4",
        "outputId": "66807786-c8d3-4baa-9f35-b4d0c9be2dca"
      },
      "source": [
        "N = Neuron(100, save_potential_history =True)\r\n",
        "N.id"
      ],
      "execution_count": null,
      "outputs": [
        {
          "output_type": "execute_result",
          "data": {
            "text/plain": [
              "10"
            ]
          },
          "metadata": {
            "tags": []
          },
          "execution_count": 15
        }
      ]
    },
    {
      "cell_type": "code",
      "metadata": {
        "colab": {
          "base_uri": "https://localhost:8080/"
        },
        "id": "GHUoPvkKd5JD",
        "outputId": "fd2fab84-8cbb-4b53-9705-6329f2839d96"
      },
      "source": [
        "for i in range(5):\r\n",
        "    N.step(0)\r\n",
        "    N.step(10)\r\n",
        "    print(N.output)\r\n",
        "    N.step(0)\r\n",
        "    N.step(0)\r\n",
        "    N.step(0)\r\n",
        "    N.step(0)\r\n",
        "    N.step(0)\r\n",
        "    N.step(0)\r\n",
        "    N.step(0)\r\n",
        "    N.step(0)\r\n",
        "    N.step(0)\r\n",
        "    N.step(0)\r\n",
        "    N.step(0)\r\n",
        "    N.step(0)\r\n",
        "    N.step(0)\r\n",
        "    N.step(0)\r\n",
        "    N.step(0)\r\n",
        "    N.step(0)\r\n",
        "    N.step(0)\r\n",
        "    N.step(0)\r\n"
      ],
      "execution_count": null,
      "outputs": [
        {
          "output_type": "stream",
          "text": [
            "True\n",
            "True\n",
            "True\n",
            "True\n",
            "True\n"
          ],
          "name": "stdout"
        }
      ]
    },
    {
      "cell_type": "code",
      "metadata": {
        "colab": {
          "base_uri": "https://localhost:8080/",
          "height": 282
        },
        "id": "-fPFrmXGeF_L",
        "outputId": "599e50eb-ab5d-4d6f-ac33-5915b847e960"
      },
      "source": [
        "plt.plot(N.potential)"
      ],
      "execution_count": null,
      "outputs": [
        {
          "output_type": "execute_result",
          "data": {
            "text/plain": [
              "[<matplotlib.lines.Line2D at 0x7f0e46534450>]"
            ]
          },
          "metadata": {
            "tags": []
          },
          "execution_count": 90
        },
        {
          "output_type": "display_data",
          "data": {
            "image/png": "[encoded data removed]",
            "text/plain": [
              "<Figure size 432x288 with 1 Axes>"
            ]
          },
          "metadata": {
            "tags": [],
            "needs_background": "light"
          }
        }
      ]
    },
    {
      "cell_type": "code",
      "metadata": {
        "colab": {
          "base_uri": "https://localhost:8080/",
          "height": 281
        },
        "id": "6GH3y64yeYPm",
        "outputId": "60ddd747-72f7-4bfa-dc38-057673277877"
      },
      "source": [
        "N.step(0)"
      ],
      "execution_count": null,
      "outputs": [
        {
          "output_type": "error",
          "ename": "AssertionError",
          "evalue": "ignored",
          "traceback": [
            "\u001b[0;31m---------------------------------------------------------------------------\u001b[0m",
            "\u001b[0;31mAssertionError\u001b[0m                            Traceback (most recent call last)",
            "\u001b[0;32m<ipython-input-94-a4a7341d30cf>\u001b[0m in \u001b[0;36m<module>\u001b[0;34m()\u001b[0m\n\u001b[0;32m----> 1\u001b[0;31m \u001b[0mN\u001b[0m\u001b[0;34m.\u001b[0m\u001b[0mstep\u001b[0m\u001b[0;34m(\u001b[0m\u001b[0;36m0\u001b[0m\u001b[0;34m)\u001b[0m\u001b[0;34m\u001b[0m\u001b[0;34m\u001b[0m\u001b[0m\n\u001b[0m",
            "\u001b[0;32m<ipython-input-91-eeed89998abc>\u001b[0m in \u001b[0;36mstep\u001b[0;34m(self, input_current)\u001b[0m\n\u001b[1;32m     24\u001b[0m \u001b[0;34m\u001b[0m\u001b[0m\n\u001b[1;32m     25\u001b[0m     \u001b[0;32mdef\u001b[0m \u001b[0mstep\u001b[0m\u001b[0;34m(\u001b[0m\u001b[0mself\u001b[0m\u001b[0;34m,\u001b[0m \u001b[0minput_current\u001b[0m\u001b[0;34m)\u001b[0m\u001b[0;34m:\u001b[0m\u001b[0;34m\u001b[0m\u001b[0;34m\u001b[0m\u001b[0m\n\u001b[0;32m---> 26\u001b[0;31m         \u001b[0;32massert\u001b[0m \u001b[0mself\u001b[0m\u001b[0;34m.\u001b[0m\u001b[0mtimestep\u001b[0m \u001b[0;34m<\u001b[0m \u001b[0mself\u001b[0m\u001b[0;34m.\u001b[0m\u001b[0mtotal_timepoints\u001b[0m\u001b[0;34m,\u001b[0m \u001b[0;34m\"Simulation interval has been finished!\"\u001b[0m\u001b[0;34m\u001b[0m\u001b[0;34m\u001b[0m\u001b[0m\n\u001b[0m\u001b[1;32m     27\u001b[0m         \u001b[0mself\u001b[0m\u001b[0;34m.\u001b[0m\u001b[0mcurrent\u001b[0m\u001b[0;34m[\u001b[0m\u001b[0mself\u001b[0m\u001b[0;34m.\u001b[0m\u001b[0mtimestep\u001b[0m\u001b[0;34m]\u001b[0m \u001b[0;34m=\u001b[0m \u001b[0minput_current\u001b[0m\u001b[0;34m\u001b[0m\u001b[0;34m\u001b[0m\u001b[0m\n\u001b[1;32m     28\u001b[0m         \u001b[0mself\u001b[0m\u001b[0;34m.\u001b[0m\u001b[0mu\u001b[0m \u001b[0;34m=\u001b[0m \u001b[0mself\u001b[0m\u001b[0;34m.\u001b[0m\u001b[0mu_rest\u001b[0m\u001b[0;34m\u001b[0m\u001b[0;34m\u001b[0m\u001b[0m\n",
            "\u001b[0;31mAssertionError\u001b[0m: Simulation interval has been finished!"
          ]
        }
      ]
    },
    {
      "cell_type": "code",
      "metadata": {
        "colab": {
          "base_uri": "https://localhost:8080/"
        },
        "id": "mffPlHMnefGz",
        "outputId": "cb811bc3-1686-45d5-fdac-6660020674cf"
      },
      "source": [
        "N.spike_train"
      ],
      "execution_count": null,
      "outputs": [
        {
          "output_type": "execute_result",
          "data": {
            "text/plain": [
              "array([False,  True, False, False, False, False, False, False, False,\n",
              "       False, False, False, False, False, False, False, False, False,\n",
              "       False, False, False,  True, False, False, False, False, False,\n",
              "       False, False, False, False, False, False, False, False, False,\n",
              "       False, False, False, False, False,  True, False, False, False,\n",
              "       False, False, False, False, False, False, False, False, False,\n",
              "       False, False, False, False, False, False, False,  True, False,\n",
              "       False, False, False, False, False, False, False, False, False,\n",
              "       False, False, False, False, False, False, False, False, False,\n",
              "        True, False, False, False, False, False, False, False, False,\n",
              "       False, False, False, False, False, False, False, False, False,\n",
              "       False])"
            ]
          },
          "metadata": {
            "tags": []
          },
          "execution_count": 110
        }
      ]
    }
  ]
}