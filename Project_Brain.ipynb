{
  "nbformat": 4,
  "nbformat_minor": 0,
  "metadata": {
    "colab": {
      "name": "Project Brain.ipynb",
      "provenance": [],
      "collapsed_sections": [],
      "include_colab_link": true
    },
    "kernelspec": {
      "name": "python3",
      "display_name": "Python 3"
    }
  },
  "cells": [
    {
      "cell_type": "markdown",
      "metadata": {
        "id": "view-in-github",
        "colab_type": "text"
      },
      "source": [
        "<a href=\"https://colab.research.google.com/github/mahbodnr/Mask-Detection/blob/main/Project_Brain.ipynb\" target=\"_parent\"><img src=\"https://colab.research.google.com/assets/colab-badge.svg\" alt=\"Open In Colab\"/></a>"
      ]
    },
    {
      "cell_type": "markdown",
      "metadata": {
        "id": "zBNu2SRNjpq2"
      },
      "source": [
        "#TODO:\r\n",
        "\r\n",
        "- <s>neuron id </s>\r\n",
        "- define a global timestep"
      ]
    },
    {
      "cell_type": "code",
      "metadata": {
        "id": "dWAzDOZ4UBCD"
      },
      "source": [
        "import numpy as np\r\n",
        "import matplotlib.pyplot as plt\r\n",
        "import random\r\n",
        "from itertools import count\r\n",
        "import networkx as nx"
      ],
      "execution_count": 1,
      "outputs": []
    },
    {
      "cell_type": "code",
      "metadata": {
        "id": "6hTvp1iFU8JR"
      },
      "source": [
        "dt = 0.001 #s\r\n",
        "T = 0.1 #s\r\n",
        "total_timepoints = int(T/ dt)"
      ],
      "execution_count": 2,
      "outputs": []
    },
    {
      "cell_type": "markdown",
      "metadata": {
        "id": "onFPMRE0nNOm"
      },
      "source": [
        "LIF:<br>\r\n",
        "$u = u_r + \\int 1/C * exp(t-t'/\\tau) * I(t')dt'$"
      ]
    },
    {
      "cell_type": "code",
      "metadata": {
        "id": "3jHgfagfnM1J"
      },
      "source": [
        "class NeuronType(object):\r\n",
        "    pass\r\n",
        "\r\n",
        "class LIF(NeuronType):\r\n",
        "    def __init__(self,  Rm = 1,Cm = 0.1):\r\n",
        "        self.Rm = Rm #ohm\r\n",
        "        self.Cm = Cm #uF\r\n",
        "        self.tau_m = Rm*Cm\r\n",
        "\r\n",
        "    def __call__(self, current, timestep, last_spike_timepoint,):\r\n",
        "        potential = 0\r\n",
        "        for timepoint in range(last_spike_timepoint, timestep + 1):\r\n",
        "            potential += 1/self.Cm * (np.exp(-(timestep - timepoint)/self.tau_m)) * current[timepoint]\r\n",
        "        return potential"
      ],
      "execution_count": null,
      "outputs": []
    },
    {
      "cell_type": "code",
      "metadata": {
        "id": "y2eHOGsBn4LU"
      },
      "source": [
        "class Neuron(object):\r\n",
        "    _ids = count(0)\r\n",
        "    def __init__(self, total_timepoints,  model = LIF(),\r\n",
        "                 neurotransmitter = 'inhibitory', tau_ref = 4, u_rest = -68,\r\n",
        "                 u_tresh = +30, save_potential_history = False,\r\n",
        "                 base_current = 1):\r\n",
        "        \"\"\"\r\n",
        "        Define a new Neuron object\r\n",
        "        Args:\r\n",
        "\r\n",
        "        \"\"\"\r\n",
        "        self.id = next(self._ids)\r\n",
        "        self.model = model\r\n",
        "        self.neurotransmitter = neurotransmitter\r\n",
        "        self.tau_ref = tau_ref #ms # refractory period\r\n",
        "        self.u_rest = u_rest #mv\r\n",
        "        self.u_tresh = u_tresh #mv\r\n",
        "        self.base_current = base_current #mv\r\n",
        "        self.u = self.u_rest\r\n",
        "        self.save_potential = save_potential_history\r\n",
        "        self.open = True\r\n",
        "        self.current_history = np.zeros(total_timepoints)\r\n",
        "        self.spike_train =  np.zeros(total_timepoints, dtype = np.bool)\r\n",
        "        self.last_spike_timepoint = 0\r\n",
        "        if self.save_potential:\r\n",
        "            self.potential = np.zeros(total_timepoints)\r\n",
        "        self.current = 0\r\n",
        "        self.timestep = 0\r\n",
        "        \r\n",
        "    def step(self):\r\n",
        "        assert self.timestep < self.total_timepoints, \"Simulation interval has been finished!\"\r\n",
        "        # Check refactory interval\r\n",
        "        if not open:\r\n",
        "            if self.refactory_time < self.tau_ref:\r\n",
        "                self.refactory_time += 1\r\n",
        "            else:\r\n",
        "                self.open = True\r\n",
        "        else:\r\n",
        "            # Add current current to current history :)\r\n",
        "            self.current_history[self.timestep] = self.current\r\n",
        "            # Update\r\n",
        "            self.u = self.u_rest\r\n",
        "            self.u += self.model(self.current_history, self.timestep, self.last_spike_timepoint)\r\n",
        "            # Save potential history\r\n",
        "            if self.save_potential:\r\n",
        "                self.potential[self.timestep] = self.u\r\n",
        "            # Spike\r\n",
        "            if self.u > self.u_tresh:\r\n",
        "                self.last_spike_timepoint = self.timestep + self.tau_ref\r\n",
        "                self.spike_train[self.timestep] = True\r\n",
        "                self.open = False\r\n",
        "                self.refactory_time = 0 \r\n",
        "        # Go to next time step\r\n",
        "        self.current = 0\r\n",
        "\r\n",
        "    @property\r\n",
        "    def spike(self):\r\n",
        "        return self.spike_train[self.timestep - 1]"
      ],
      "execution_count": 113,
      "outputs": []
    },
    {
      "cell_type": "code",
      "metadata": {
        "id": "n4eaCpRXUIF2"
      },
      "source": [
        "class NeuronGroup(object):\r\n",
        "    def __init__(self, population, total_timepoints,\r\n",
        "                 connection_chance, excitatory_rate):\r\n",
        "        self.population = population\r\n",
        "        self.neurons = {\r\n",
        "            Neuron(total_timepoints, \r\n",
        "                   neurotransmitter = 'inhibitory' if random.random() > excitatory_rate else 'excitatory')\r\n",
        "            for _ in range(self.population)}\r\n",
        "                \r\n",
        "\r\n",
        "        self.network = nx.DiGraph()\r\n",
        "        self.network.add_nodes_from(self.neurons)\r\n",
        "        for PreSN in self.network.nodes:\r\n",
        "            for PostSN in self.network.nodes:\r\n",
        "                if PreSN != PostSN:\r\n",
        "                    if random.random() < connection_chance:\r\n",
        "                        self.network.add_edge(PreSN, PostSN, weight = np.random.normal(scale= 1))\r\n",
        "\r\n",
        "        self.timestep = 0\r\n",
        "\r\n",
        "    def step(self):\r\n",
        "        for neuron in self.neurons:\r\n",
        "            if neuron.current:\r\n",
        "                neuron.step()\r\n",
        "                neuron.timestep = self.timestep\r\n",
        "\r\n",
        "        for neuron in self.neurons:\r\n",
        "            if neuron.spike:\r\n",
        "                for _, postSN, weight in self.network.out_edges(neuron, data = 'weight'):\r\n",
        "                    if postSN.open:\r\n",
        "                        postSN.current += self.base_current * weight\r\n"
      ],
      "execution_count": 114,
      "outputs": []
    },
    {
      "cell_type": "code",
      "metadata": {
        "id": "kFCGa5zSEmn-"
      },
      "source": [
        "class stimulus(object):\r\n",
        "    _ids = count(0)\r\n",
        "    def __init__(self, output, dt):\r\n",
        "        \"\"\"\r\n",
        "        Parameters\r\n",
        "        ----------\r\n",
        "        output: function\r\n",
        "        A function that determines the output of the stimulus\r\n",
        "        in a specific timestep.\r\n",
        "        examples:\r\n",
        "        output = lambda t: np.sin(2 * t)\r\n",
        "        output = lambda t: 2\r\n",
        "\r\n",
        "        Returns\r\n",
        "        -------\r\n",
        "        Returns the value of output if no connection is set.\r\n",
        "        otherwise, sends he value to the connection (returns None).\r\n",
        "        \"\"\"\r\n",
        "        self.output = output\r\n",
        "        self.connection = None\r\n",
        "        self.id = next(self._ids)\r\n",
        "        self.timestep = 0\r\n",
        "        self.dt = dt\r\n",
        "\r\n",
        "    def connect(self, connection):\r\n",
        "        self.connection = connection\r\n",
        "\r\n",
        "    def step(self):\r\n",
        "        if self.connection == None:\r\n",
        "            print(f\"WARNING: Stimulus (id: {self.id}) has not connected to any object!\")\r\n",
        "            return self.output(self.timestep * self.dt)\r\n",
        "        self.connection.current += self.output(self.timestep * self.dt)\r\n"
      ],
      "execution_count": 115,
      "outputs": []
    },
    {
      "cell_type": "code",
      "metadata": {
        "id": "Lu9RAuEMJjI4"
      },
      "source": [
        "class simulation(object):\r\n",
        "    def __init__(self, total_time, dt):\r\n",
        "        self.total_timepoints = int(T/ dt)\r\n",
        "        self.timepoint = 0\r\n",
        "        self.objects = set()\r\n",
        "        self.dt = dt\r\n",
        "\r\n",
        "    def NeuronGroup(self, population, connection_chance=1/10,\r\n",
        "                    excitatory_rate=2 /10):\r\n",
        "        G = NeuronGroup(population, self.total_timepoints,\r\n",
        "                        connection_chance, excitatory_rate)\r\n",
        "        self.objects.add(G)\r\n",
        "        return G\r\n",
        "\r\n",
        "    def stimulus(self, output):\r\n",
        "        stim = stimulus(output, self.dt)\r\n",
        "        self.objects.add(stim)\r\n",
        "        return stim\r\n",
        "\r\n",
        "    def step(self):\r\n",
        "        for obj in self.objects:\r\n",
        "            obj.step()\r\n",
        "            obj.timestep +=1\r\n",
        "\r\n",
        "    @property\r\n",
        "    def time(self):\r\n",
        "        return self.timepoint * self.dt"
      ],
      "execution_count": 116,
      "outputs": []
    },
    {
      "cell_type": "markdown",
      "metadata": {
        "id": "6qnHhenKnJuR"
      },
      "source": [
        "#Run"
      ]
    },
    {
      "cell_type": "code",
      "metadata": {
        "id": "mPP4OQLqUCv4"
      },
      "source": [
        "sim = simulation(total_time= 1, dt = 0.001)\r\n",
        "group = sim.NeuronGroup(10)\r\n",
        "stim = sim.stimulus(lambda t : np.sin(t))\r\n",
        "stim.connect(next(iter(group.neurons)))\r\n",
        "sim.step()"
      ],
      "execution_count": 122,
      "outputs": []
    }
  ]
}